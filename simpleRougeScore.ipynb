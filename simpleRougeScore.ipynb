{
 "cells": [
  {
   "cell_type": "code",
   "execution_count": 1,
   "id": "a2717aac-3a36-4eae-8f7d-e245b4ecf669",
   "metadata": {},
   "outputs": [],
   "source": [
    "from transformers import AutoTokenizer, AutoModelForSeq2SeqLM\n",
    "\n",
    "\n",
    "def predict(model, text):\n",
    "    # Preprocess the text\n",
    "    inputs = tokenizer(\n",
    "        text, max_length=512, truncation=True, padding=True, return_tensors=\"pt\"\n",
    "    )\n",
    "\n",
    "    # Generate prediction\n",
    "    outputs = model.generate(\n",
    "        input_ids=inputs[\"input_ids\"].to(\"cuda\"),\n",
    "        max_length=512,\n",
    "        attention_mask=inputs[\"attention_mask\"].to(\"cuda\"),\n",
    "    )\n",
    "\n",
    "    # Decode the output and print\n",
    "    output_text = tokenizer.decode(outputs[0], skip_special_tokens=True)\n",
    "    # print(output_text)\n",
    "    return output_text\n",
    "\n",
    "\n",
    "\n"
   ]
  },
  {
   "cell_type": "code",
   "execution_count": 2,
   "id": "48a73e2d-753e-4b80-b280-487e48c4d019",
   "metadata": {},
   "outputs": [],
   "source": [
    "%%capture\n",
    "# Test the function\n",
    "from transformers import AutoTokenizer, AutoModelForSeq2SeqLM\n",
    "\n",
    "# Load the tokenizer and model\n",
    "tokenizer = AutoTokenizer.from_pretrained(\"VietAI/vit5-base\")\n",
    "model = AutoModelForSeq2SeqLM.from_pretrained(\n",
    "    \"/home/dezs/Projects/Nienluan2/ModelStep8\"\n",
    ")\n",
    "# model = AutoModelForSeq2SeqLM.from_pretrained('/home/dezs/Projects/Nienluan2/ModelStep1')\n",
    "# model = AutoModelForSeq2SeqLM.from_pretrained('/home/dezs/Projects/Nienluan2/myModelMini')\n",
    "model.to(\"cuda\")\n",
    "\n"
   ]
  },
  {
   "cell_type": "code",
   "execution_count": 3,
   "id": "7250c8b0-c651-40c8-ba66-7e96875cbb40",
   "metadata": {},
   "outputs": [],
   "source": [
    "def count_words(s):\n",
    "    words = s.split()\n",
    "    return len(words)\n",
    "\n",
    "# test_string = \"This is a test string.\"\n",
    "# word_count = count_words(test_string)\n",
    "# print(\"The number of words in the string is:\", word_count)\n"
   ]
  },
  {
   "cell_type": "code",
   "execution_count": 4,
   "id": "3e0cafe7-241b-4ed4-9adf-ac4e4865f7b8",
   "metadata": {},
   "outputs": [],
   "source": [
    "from rouge_score import rouge_scorer\n",
    "scorer = rouge_scorer.RougeScorer(['rouge1', 'rouge2', 'rougeL'], use_stemmer=True)"
   ]
  },
  {
   "cell_type": "code",
   "execution_count": 6,
   "id": "74871e93-dc1a-4d26-8ff1-d51887162f2e",
   "metadata": {},
   "outputs": [
    {
     "name": "stdout",
     "output_type": "stream",
     "text": [
      "Nhằm hỗ trợ các bạn sinh viên từ Khóa 44 trở về trước thêm điều kiện hoàn thành chứng chỉ tiếng Anh để tốt nghiệp, Trung tâm Ngoại ngữ, Đại học Cần Thơ tổ chức chương trình ôn tập VSTEP A2 theo hình thức HyFlex (học trực tiếp kết hợp trực tuyến) với ưu đãi đặc biệt: Giảm 50% học phí.\n",
      "rouge1: Score(precision=1.0, recall=1.0, fmeasure=1.0)\n",
      "rouge2: Score(precision=1.0, recall=1.0, fmeasure=1.0)\n",
      "rougeL: Score(precision=1.0, recall=1.0, fmeasure=1.0)\n"
     ]
    }
   ],
   "source": [
    "input=\"Nham ho tro các bạn sinh viên từ Khóa 44 trở về trước thêm điều kiện hoàn thành chứng chi tiếng Anh để tốt nghiệp, Trung tâm Ngoại ngữ, Đại học Cần Tho to chức chương trình on tập VSTEP A2 theo hình thức HyFlex (học trực tiếp ket hợp trực tuyến) với ưu đãi đặc biệt: Giam 50% học phí.\"\n",
    "candidate_summary = predict(model,input)\n",
    "# candidate_summary = \"Nhằm hỗ trợ các bạn sinh viên từ Khóa 44 trở về trước thêm điều kiện hoàn thành chứng chỉ tiếng Anh để tốt nghiệp, Trung tâm Ngoại ngữ, Đại học Cần Thơ tổ chức chương trình ôn tập VSTEP A2 theo hình thức HyFlex (học trực tiếp kết hợp trực tuyến) với ưu đãi đặc biệt: Giảm 50% học phí.\"\n",
    "print(candidate_summary)\n",
    "reference_summary = \"Nhằm hỗ trợ các bạn sinh viên từ Khóa 44 trở về trước thêm điều kiện hoàn thành chứng chỉ tiếng Anh để tốt nghiệp, Trung tâm Ngoại ngữ, Đại học Cần Thơ tổ chức chương trình ôn tập VSTEP A2 theo hình thức HyFlex (học trực tiếp kết hợp trực tuyến) với ưu đãi đặc biệt: Giảm 50% học phí.\"\n",
    "scores = scorer.score(reference_summary, candidate_summary)\n",
    "for key in scores:\n",
    "    print(f'{key}: {scores[key]}')"
   ]
  },
  {
   "cell_type": "code",
   "execution_count": null,
   "id": "243a713a-8d0b-42c1-a34e-b13ce523eecf",
   "metadata": {},
   "outputs": [],
   "source": []
  },
  {
   "cell_type": "code",
   "execution_count": null,
   "id": "529ac8cd-eb55-412f-a3fc-31e7b9f4d176",
   "metadata": {},
   "outputs": [],
   "source": []
  }
 ],
 "metadata": {
  "kernelspec": {
   "display_name": "Python 3 (ipykernel)",
   "language": "python",
   "name": "python3"
  },
  "language_info": {
   "codemirror_mode": {
    "name": "ipython",
    "version": 3
   },
   "file_extension": ".py",
   "mimetype": "text/x-python",
   "name": "python",
   "nbconvert_exporter": "python",
   "pygments_lexer": "ipython3",
   "version": "3.11.6"
  }
 },
 "nbformat": 4,
 "nbformat_minor": 5
}
