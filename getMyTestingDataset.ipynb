{
 "cells": [
  {
   "cell_type": "code",
   "execution_count": 1,
   "id": "6fe57f4e-4f4c-4664-959a-15ea0ed42bc5",
   "metadata": {},
   "outputs": [],
   "source": [
    "import pandas as pd\n",
    "\n",
    "# Load the csv file\n",
    "df = pd.read_csv('myDataset/refinedFullDataset.csv')\n",
    "\n"
   ]
  },
  {
   "cell_type": "code",
   "execution_count": 3,
   "id": "03cda1dc-860c-4513-ba03-871a59232f11",
   "metadata": {},
   "outputs": [],
   "source": [
    "\n",
    "# Get the last 10000 rows\n",
    "df_tail = df.tail(5)\n",
    "\n",
    "# Save it to another csv file\n",
    "df_tail.to_csv('myDataset/superMiniTestDataset.csv', index=False)"
   ]
  },
  {
   "cell_type": "code",
   "execution_count": 4,
   "id": "dac36d56-d11c-4fc0-b909-576d9f876222",
   "metadata": {},
   "outputs": [
    {
     "data": {
      "text/html": [
       "<div>\n",
       "<style scoped>\n",
       "    .dataframe tbody tr th:only-of-type {\n",
       "        vertical-align: middle;\n",
       "    }\n",
       "\n",
       "    .dataframe tbody tr th {\n",
       "        vertical-align: top;\n",
       "    }\n",
       "\n",
       "    .dataframe thead th {\n",
       "        text-align: right;\n",
       "    }\n",
       "</style>\n",
       "<table border=\"1\" class=\"dataframe\">\n",
       "  <thead>\n",
       "    <tr style=\"text-align: right;\">\n",
       "      <th></th>\n",
       "      <th>Sentences</th>\n",
       "      <th>AccentlessSentences</th>\n",
       "    </tr>\n",
       "  </thead>\n",
       "  <tbody>\n",
       "    <tr>\n",
       "      <th>4036374</th>\n",
       "      <td>Để giúp CNVC-LĐ và nhân dân 6 tỉnh Miền Trung ...</td>\n",
       "      <td>Dể giup CNVC-LD va nhan dân 6 tinh Mien Trung ...</td>\n",
       "    </tr>\n",
       "    <tr>\n",
       "      <th>4036375</th>\n",
       "      <td>Tại TP Hồ Chí Minh: 43 Hoa Đào, quận Phú Nhuận...</td>\n",
       "      <td>Tai TP Ho Chí Minh: 43 Hoa Đao, quan Phu Nhuan...</td>\n",
       "    </tr>\n",
       "    <tr>\n",
       "      <th>4036376</th>\n",
       "      <td>Báo Lao Động, Quỹ TLV Lao Động chân thành cảm ...</td>\n",
       "      <td>Bao Lao Dộng, Quy TLV Lao Đong chan thành cam ...</td>\n",
       "    </tr>\n",
       "    <tr>\n",
       "      <th>4036377</th>\n",
       "      <td>* LĐLĐ TP.</td>\n",
       "      <td>* LDLĐ TP.</td>\n",
       "    </tr>\n",
       "    <tr>\n",
       "      <th>4036378</th>\n",
       "      <td>Hồ Chí Minh: 500 triệu đồng * Cty CP Bóng đèn ...</td>\n",
       "      <td>Hồ Chi Minh: 500 triệu đồng * Cty CP Bong den ...</td>\n",
       "    </tr>\n",
       "  </tbody>\n",
       "</table>\n",
       "</div>"
      ],
      "text/plain": [
       "                                                 Sentences  \\\n",
       "4036374  Để giúp CNVC-LĐ và nhân dân 6 tỉnh Miền Trung ...   \n",
       "4036375  Tại TP Hồ Chí Minh: 43 Hoa Đào, quận Phú Nhuận...   \n",
       "4036376  Báo Lao Động, Quỹ TLV Lao Động chân thành cảm ...   \n",
       "4036377                                         * LĐLĐ TP.   \n",
       "4036378  Hồ Chí Minh: 500 triệu đồng * Cty CP Bóng đèn ...   \n",
       "\n",
       "                                       AccentlessSentences  \n",
       "4036374  Dể giup CNVC-LD va nhan dân 6 tinh Mien Trung ...  \n",
       "4036375  Tai TP Ho Chí Minh: 43 Hoa Đao, quan Phu Nhuan...  \n",
       "4036376  Bao Lao Dộng, Quy TLV Lao Đong chan thành cam ...  \n",
       "4036377                                         * LDLĐ TP.  \n",
       "4036378  Hồ Chi Minh: 500 triệu đồng * Cty CP Bong den ...  "
      ]
     },
     "execution_count": 4,
     "metadata": {},
     "output_type": "execute_result"
    }
   ],
   "source": [
    "df_tail"
   ]
  },
  {
   "cell_type": "code",
   "execution_count": 4,
   "id": "13c481db-1db4-4d51-98ec-2e6b1b2871d6",
   "metadata": {},
   "outputs": [
    {
     "data": {
      "text/html": [
       "<div>\n",
       "<style scoped>\n",
       "    .dataframe tbody tr th:only-of-type {\n",
       "        vertical-align: middle;\n",
       "    }\n",
       "\n",
       "    .dataframe tbody tr th {\n",
       "        vertical-align: top;\n",
       "    }\n",
       "\n",
       "    .dataframe thead th {\n",
       "        text-align: right;\n",
       "    }\n",
       "</style>\n",
       "<table border=\"1\" class=\"dataframe\">\n",
       "  <thead>\n",
       "    <tr style=\"text-align: right;\">\n",
       "      <th></th>\n",
       "      <th>Sentences</th>\n",
       "      <th>AccentlessSentences</th>\n",
       "    </tr>\n",
       "  </thead>\n",
       "  <tbody>\n",
       "    <tr>\n",
       "      <th>count</th>\n",
       "      <td>50000</td>\n",
       "      <td>50000</td>\n",
       "    </tr>\n",
       "    <tr>\n",
       "      <th>unique</th>\n",
       "      <td>50000</td>\n",
       "      <td>50000</td>\n",
       "    </tr>\n",
       "    <tr>\n",
       "      <th>top</th>\n",
       "      <td>Dù cô giáo đúng sai thế nào, nhưng hành động c...</td>\n",
       "      <td>Dù co giáo dung sai thế nào, nhung hành động c...</td>\n",
       "    </tr>\n",
       "    <tr>\n",
       "      <th>freq</th>\n",
       "      <td>1</td>\n",
       "      <td>1</td>\n",
       "    </tr>\n",
       "  </tbody>\n",
       "</table>\n",
       "</div>"
      ],
      "text/plain": [
       "                                                Sentences  \\\n",
       "count                                               50000   \n",
       "unique                                              50000   \n",
       "top     Dù cô giáo đúng sai thế nào, nhưng hành động c...   \n",
       "freq                                                    1   \n",
       "\n",
       "                                      AccentlessSentences  \n",
       "count                                               50000  \n",
       "unique                                              50000  \n",
       "top     Dù co giáo dung sai thế nào, nhung hành động c...  \n",
       "freq                                                    1  "
      ]
     },
     "execution_count": 4,
     "metadata": {},
     "output_type": "execute_result"
    }
   ],
   "source": [
    "df = pd.read_csv('myDataset/biggerTestDataset.csv')\n",
    "df.describe()"
   ]
  },
  {
   "cell_type": "code",
   "execution_count": null,
   "id": "58602d1b-a112-400b-8b0b-6a416c9d9d56",
   "metadata": {},
   "outputs": [],
   "source": []
  }
 ],
 "metadata": {
  "kernelspec": {
   "display_name": "Python 3 (ipykernel)",
   "language": "python",
   "name": "python3"
  },
  "language_info": {
   "codemirror_mode": {
    "name": "ipython",
    "version": 3
   },
   "file_extension": ".py",
   "mimetype": "text/x-python",
   "name": "python",
   "nbconvert_exporter": "python",
   "pygments_lexer": "ipython3",
   "version": "3.11.6"
  }
 },
 "nbformat": 4,
 "nbformat_minor": 5
}
