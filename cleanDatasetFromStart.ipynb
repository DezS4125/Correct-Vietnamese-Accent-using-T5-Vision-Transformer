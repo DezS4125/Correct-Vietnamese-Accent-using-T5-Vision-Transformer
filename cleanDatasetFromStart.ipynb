{
 "cells": [
  {
   "cell_type": "code",
   "execution_count": 1,
   "id": "d3ed6a2c-3970-4de6-b824-c43fbe78dfba",
   "metadata": {},
   "outputs": [],
   "source": [
    "import pandas as pd\n",
    "filePath=\"myDataset/Dataset_articles_NoID.csv\"\n",
    "data=pd.read_csv(filePath)"
   ]
  },
  {
   "cell_type": "code",
   "execution_count": 6,
   "id": "7afb972f-4f5c-4c50-982a-8e41ff755402",
   "metadata": {},
   "outputs": [
    {
     "data": {
      "text/html": [
       "<div>\n",
       "<style scoped>\n",
       "    .dataframe tbody tr th:only-of-type {\n",
       "        vertical-align: middle;\n",
       "    }\n",
       "\n",
       "    .dataframe tbody tr th {\n",
       "        vertical-align: top;\n",
       "    }\n",
       "\n",
       "    .dataframe thead th {\n",
       "        text-align: right;\n",
       "    }\n",
       "</style>\n",
       "<table border=\"1\" class=\"dataframe\">\n",
       "  <thead>\n",
       "    <tr style=\"text-align: right;\">\n",
       "      <th></th>\n",
       "      <th>URL</th>\n",
       "      <th>Title</th>\n",
       "      <th>Summary</th>\n",
       "      <th>Contents</th>\n",
       "      <th>Date</th>\n",
       "      <th>Author(s)</th>\n",
       "      <th>Category</th>\n",
       "      <th>Tags</th>\n",
       "    </tr>\n",
       "  </thead>\n",
       "  <tbody>\n",
       "    <tr>\n",
       "      <th>count</th>\n",
       "      <td>313320</td>\n",
       "      <td>313320</td>\n",
       "      <td>313140</td>\n",
       "      <td>307763</td>\n",
       "      <td>313320</td>\n",
       "      <td>312499</td>\n",
       "      <td>313320</td>\n",
       "      <td>313320</td>\n",
       "    </tr>\n",
       "    <tr>\n",
       "      <th>unique</th>\n",
       "      <td>290282</td>\n",
       "      <td>288833</td>\n",
       "      <td>288922</td>\n",
       "      <td>284633</td>\n",
       "      <td>252777</td>\n",
       "      <td>19087</td>\n",
       "      <td>39</td>\n",
       "      <td>245322</td>\n",
       "    </tr>\n",
       "    <tr>\n",
       "      <th>top</th>\n",
       "      <td>https://laodong.vn/cong-doan/cuoi-thang-nhieu-...</td>\n",
       "      <td>Dự báo thời tiết 10 ngày tới ở cả ba miền</td>\n",
       "      <td>Tuyển sinh năm 2022, nhiều trường đại học trên...</td>\n",
       "      <td>Giá vàng trong nước  Nguồn: Công ty CP Dịch vụ...</td>\n",
       "      <td>Thứ bảy, 03/04/2021 07:00 (GMT+7)</td>\n",
       "      <td>Thanh Hà</td>\n",
       "      <td>Xã hội</td>\n",
       "      <td>['Hà Nội']</td>\n",
       "    </tr>\n",
       "    <tr>\n",
       "      <th>freq</th>\n",
       "      <td>5</td>\n",
       "      <td>69</td>\n",
       "      <td>49</td>\n",
       "      <td>47</td>\n",
       "      <td>14</td>\n",
       "      <td>5297</td>\n",
       "      <td>58776</td>\n",
       "      <td>1477</td>\n",
       "    </tr>\n",
       "  </tbody>\n",
       "</table>\n",
       "</div>"
      ],
      "text/plain": [
       "                                                      URL  \\\n",
       "count                                              313320   \n",
       "unique                                             290282   \n",
       "top     https://laodong.vn/cong-doan/cuoi-thang-nhieu-...   \n",
       "freq                                                    5   \n",
       "\n",
       "                                            Title  \\\n",
       "count                                      313320   \n",
       "unique                                     288833   \n",
       "top     Dự báo thời tiết 10 ngày tới ở cả ba miền   \n",
       "freq                                           69   \n",
       "\n",
       "                                                  Summary  \\\n",
       "count                                              313140   \n",
       "unique                                             288922   \n",
       "top     Tuyển sinh năm 2022, nhiều trường đại học trên...   \n",
       "freq                                                   49   \n",
       "\n",
       "                                                 Contents  \\\n",
       "count                                              307763   \n",
       "unique                                             284633   \n",
       "top     Giá vàng trong nước  Nguồn: Công ty CP Dịch vụ...   \n",
       "freq                                                   47   \n",
       "\n",
       "                                     Date Author(s) Category        Tags  \n",
       "count                              313320    312499   313320      313320  \n",
       "unique                             252777     19087       39      245322  \n",
       "top     Thứ bảy, 03/04/2021 07:00 (GMT+7)  Thanh Hà   Xã hội  ['Hà Nội']  \n",
       "freq                                   14      5297    58776        1477  "
      ]
     },
     "execution_count": 6,
     "metadata": {},
     "output_type": "execute_result"
    }
   ],
   "source": [
    "data.describe()"
   ]
  },
  {
   "cell_type": "code",
   "execution_count": 3,
   "id": "bd46cf86-437a-4738-a59d-494084fee401",
   "metadata": {},
   "outputs": [],
   "source": [
    "filteredDF=data.Contents\n",
    "filteredDF = filteredDF.dropna()\n",
    "filteredDF.to_csv('/colabDrive/MyDrive/colabDrive/ContentsOnly.csv')"
   ]
  },
  {
   "cell_type": "code",
   "execution_count": 4,
   "id": "3fd8a63c-ef48-4051-9c22-b28b43f11f19",
   "metadata": {},
   "outputs": [
    {
     "data": {
      "text/plain": [
       "count                                                307763\n",
       "unique                                               284633\n",
       "top       Giá vàng trong nước  Nguồn: Công ty CP Dịch vụ...\n",
       "freq                                                     47\n",
       "Name: Contents, dtype: object"
      ]
     },
     "execution_count": 4,
     "metadata": {},
     "output_type": "execute_result"
    }
   ],
   "source": [
    "filteredDF.describe()"
   ]
  },
  {
   "cell_type": "code",
   "execution_count": null,
   "id": "15d12e84-152a-4c3d-9729-9042f2956fd6",
   "metadata": {},
   "outputs": [],
   "source": [
    "#Split Paragraphs into Sentences"
   ]
  },
  {
   "cell_type": "code",
   "execution_count": 2,
   "id": "f1712587-9a3f-47a4-9105-c0269c2220c2",
   "metadata": {},
   "outputs": [],
   "source": [
    "import pandas as pd\n",
    "filename=\"myDataset/ContentsOnly.csv\"\n",
    "data=pd.read_csv(filename)"
   ]
  },
  {
   "cell_type": "code",
   "execution_count": 3,
   "id": "48cf95ae-22f9-4fde-be50-4f3c3cecc7cd",
   "metadata": {},
   "outputs": [
    {
     "data": {
      "text/html": [
       "<div>\n",
       "<style scoped>\n",
       "    .dataframe tbody tr th:only-of-type {\n",
       "        vertical-align: middle;\n",
       "    }\n",
       "\n",
       "    .dataframe tbody tr th {\n",
       "        vertical-align: top;\n",
       "    }\n",
       "\n",
       "    .dataframe thead th {\n",
       "        text-align: right;\n",
       "    }\n",
       "</style>\n",
       "<table border=\"1\" class=\"dataframe\">\n",
       "  <thead>\n",
       "    <tr style=\"text-align: right;\">\n",
       "      <th></th>\n",
       "      <th>Unnamed: 0</th>\n",
       "      <th>Contents</th>\n",
       "    </tr>\n",
       "  </thead>\n",
       "  <tbody>\n",
       "    <tr>\n",
       "      <th>0</th>\n",
       "      <td>0</td>\n",
       "      <td>Những ngày vừa qua, trên trang Facebook chính ...</td>\n",
       "    </tr>\n",
       "    <tr>\n",
       "      <th>1</th>\n",
       "      <td>1</td>\n",
       "      <td>Theo thông tin từ Cục Thuế TP.HCM, hiện cơ qua...</td>\n",
       "    </tr>\n",
       "    <tr>\n",
       "      <th>2</th>\n",
       "      <td>2</td>\n",
       "      <td>CNLĐ mong muốn sớm được tiếp cận với nhà ở xã ...</td>\n",
       "    </tr>\n",
       "    <tr>\n",
       "      <th>3</th>\n",
       "      <td>3</td>\n",
       "      <td>Hoàn công nhà ở là một thủ tục hành chính tron...</td>\n",
       "    </tr>\n",
       "    <tr>\n",
       "      <th>4</th>\n",
       "      <td>4</td>\n",
       "      <td>Đi dọc đường Lê Văn Lương kéo dài xuống khu Dư...</td>\n",
       "    </tr>\n",
       "    <tr>\n",
       "      <th>...</th>\n",
       "      <td>...</td>\n",
       "      <td>...</td>\n",
       "    </tr>\n",
       "    <tr>\n",
       "      <th>307758</th>\n",
       "      <td>313303</td>\n",
       "      <td>Đoàn cứu trợ đã trực tiếp về huyện Vĩnh Linh v...</td>\n",
       "    </tr>\n",
       "    <tr>\n",
       "      <th>307759</th>\n",
       "      <td>313304</td>\n",
       "      <td>Đồng chí Phạm Anh Tuấn cũng cho biết: Chiều qu...</td>\n",
       "    </tr>\n",
       "    <tr>\n",
       "      <th>307760</th>\n",
       "      <td>313306</td>\n",
       "      <td>Số tiền trên được trích từ nguồn Quỹ Tấm lòng ...</td>\n",
       "    </tr>\n",
       "    <tr>\n",
       "      <th>307761</th>\n",
       "      <td>313307</td>\n",
       "      <td>Theo đó,  Quỹ TLV Lao Động quyết định hỗ trợ 6...</td>\n",
       "    </tr>\n",
       "    <tr>\n",
       "      <th>307762</th>\n",
       "      <td>313309</td>\n",
       "      <td>Để giúp CNVC-LĐ và nhân dân 6 tỉnh Miền Trung ...</td>\n",
       "    </tr>\n",
       "  </tbody>\n",
       "</table>\n",
       "<p>307763 rows × 2 columns</p>\n",
       "</div>"
      ],
      "text/plain": [
       "        Unnamed: 0                                           Contents\n",
       "0                0  Những ngày vừa qua, trên trang Facebook chính ...\n",
       "1                1  Theo thông tin từ Cục Thuế TP.HCM, hiện cơ qua...\n",
       "2                2  CNLĐ mong muốn sớm được tiếp cận với nhà ở xã ...\n",
       "3                3  Hoàn công nhà ở là một thủ tục hành chính tron...\n",
       "4                4  Đi dọc đường Lê Văn Lương kéo dài xuống khu Dư...\n",
       "...            ...                                                ...\n",
       "307758      313303  Đoàn cứu trợ đã trực tiếp về huyện Vĩnh Linh v...\n",
       "307759      313304  Đồng chí Phạm Anh Tuấn cũng cho biết: Chiều qu...\n",
       "307760      313306  Số tiền trên được trích từ nguồn Quỹ Tấm lòng ...\n",
       "307761      313307  Theo đó,  Quỹ TLV Lao Động quyết định hỗ trợ 6...\n",
       "307762      313309  Để giúp CNVC-LĐ và nhân dân 6 tỉnh Miền Trung ...\n",
       "\n",
       "[307763 rows x 2 columns]"
      ]
     },
     "execution_count": 3,
     "metadata": {},
     "output_type": "execute_result"
    }
   ],
   "source": [
    "data"
   ]
  },
  {
   "cell_type": "code",
   "execution_count": 4,
   "id": "3713344f-cf27-4267-9afe-c77d9e3a33d7",
   "metadata": {},
   "outputs": [],
   "source": [
    "import nltk\n",
    "\n",
    "def split_paragraph_into_sentences(paragraph):\n",
    "    # # Ensure NLTK data is downloaded\n",
    "    # nltk.download('punkt')\n",
    "    \n",
    "    # Use NLTK's sentence tokenizer\n",
    "    sentences = nltk.tokenize.sent_tokenize(paragraph)\n",
    "    \n",
    "    return sentences"
   ]
  },
  {
   "cell_type": "code",
   "execution_count": 5,
   "id": "5a2f6ba9-5edf-447f-8853-d78838159d39",
   "metadata": {},
   "outputs": [],
   "source": [
    "# Create a new list for sentences\n",
    "sentences_list = []\n",
    "\n",
    "# Apply the function to each paragraph and append the result to the list\n",
    "for i, row in data.iterrows():\n",
    "    sentences = split_paragraph_into_sentences(row['Contents'])\n",
    "    for sentence in sentences:\n",
    "        sentences_list.append(sentence)\n",
    "\n",
    "# Convert the list into a DataFrame\n",
    "data = pd.DataFrame(sentences_list, columns=['Sentences'])"
   ]
  },
  {
   "cell_type": "code",
   "execution_count": 6,
   "id": "8a8dc9e7-90e2-49fd-a316-b1cb14895f7a",
   "metadata": {},
   "outputs": [],
   "source": [
    "output_file_path=\"myDataset/sentenceOnly.csv\"\n",
    "data.to_csv(output_file_path, index=False)"
   ]
  },
  {
   "cell_type": "code",
   "execution_count": 7,
   "id": "32794a04-e6fe-4996-863a-48a76570aadd",
   "metadata": {},
   "outputs": [
    {
     "data": {
      "text/html": [
       "<div>\n",
       "<style scoped>\n",
       "    .dataframe tbody tr th:only-of-type {\n",
       "        vertical-align: middle;\n",
       "    }\n",
       "\n",
       "    .dataframe tbody tr th {\n",
       "        vertical-align: top;\n",
       "    }\n",
       "\n",
       "    .dataframe thead th {\n",
       "        text-align: right;\n",
       "    }\n",
       "</style>\n",
       "<table border=\"1\" class=\"dataframe\">\n",
       "  <thead>\n",
       "    <tr style=\"text-align: right;\">\n",
       "      <th></th>\n",
       "      <th>Sentences</th>\n",
       "    </tr>\n",
       "  </thead>\n",
       "  <tbody>\n",
       "    <tr>\n",
       "      <th>0</th>\n",
       "      <td>Những ngày vừa qua, trên trang Facebook chính ...</td>\n",
       "    </tr>\n",
       "    <tr>\n",
       "      <th>1</th>\n",
       "      <td>Sau đó, một số trang thông tin và mạng xã hội ...</td>\n",
       "    </tr>\n",
       "    <tr>\n",
       "      <th>2</th>\n",
       "      <td>Trước thông tin này, ông Đoàn Kim Đình - Chủ t...</td>\n",
       "    </tr>\n",
       "    <tr>\n",
       "      <th>3</th>\n",
       "      <td>Qua xác minh, khu đất Ngọc Trinh chụp hình và ...</td>\n",
       "    </tr>\n",
       "    <tr>\n",
       "      <th>4</th>\n",
       "      <td>Nhưng đây không phải là đất xây dựng homestay ...</td>\n",
       "    </tr>\n",
       "    <tr>\n",
       "      <th>...</th>\n",
       "      <td>...</td>\n",
       "    </tr>\n",
       "    <tr>\n",
       "      <th>4749815</th>\n",
       "      <td>ĐT: 08.35171402; fax: 08.35171407.</td>\n",
       "    </tr>\n",
       "    <tr>\n",
       "      <th>4749816</th>\n",
       "      <td>Hoặc chuyển khoản về Quỹ Xã hội từ thiện Tấm l...</td>\n",
       "    </tr>\n",
       "    <tr>\n",
       "      <th>4749817</th>\n",
       "      <td>Báo Lao Động, Quỹ TLV Lao Động chân thành cảm ...</td>\n",
       "    </tr>\n",
       "    <tr>\n",
       "      <th>4749818</th>\n",
       "      <td>* LĐLĐ TP.</td>\n",
       "    </tr>\n",
       "    <tr>\n",
       "      <th>4749819</th>\n",
       "      <td>Hồ Chí Minh: 500 triệu đồng * Cty CP Bóng đèn ...</td>\n",
       "    </tr>\n",
       "  </tbody>\n",
       "</table>\n",
       "<p>4749820 rows × 1 columns</p>\n",
       "</div>"
      ],
      "text/plain": [
       "                                                 Sentences\n",
       "0        Những ngày vừa qua, trên trang Facebook chính ...\n",
       "1        Sau đó, một số trang thông tin và mạng xã hội ...\n",
       "2        Trước thông tin này, ông Đoàn Kim Đình - Chủ t...\n",
       "3        Qua xác minh, khu đất Ngọc Trinh chụp hình và ...\n",
       "4        Nhưng đây không phải là đất xây dựng homestay ...\n",
       "...                                                    ...\n",
       "4749815                 ĐT: 08.35171402; fax: 08.35171407.\n",
       "4749816  Hoặc chuyển khoản về Quỹ Xã hội từ thiện Tấm l...\n",
       "4749817  Báo Lao Động, Quỹ TLV Lao Động chân thành cảm ...\n",
       "4749818                                         * LĐLĐ TP.\n",
       "4749819  Hồ Chí Minh: 500 triệu đồng * Cty CP Bóng đèn ...\n",
       "\n",
       "[4749820 rows x 1 columns]"
      ]
     },
     "execution_count": 7,
     "metadata": {},
     "output_type": "execute_result"
    }
   ],
   "source": [
    "data"
   ]
  },
  {
   "cell_type": "code",
   "execution_count": 10,
   "id": "04b7b380-9138-44bb-8156-0919b31f7fb6",
   "metadata": {},
   "outputs": [],
   "source": [
    "# # Assuming df is your DataFrame and 'column_name' is the name of the column you want to search in\n",
    "# mask = data['Sentences'].str.contains('“', na=False)\n",
    "\n",
    "# # This will give you a DataFrame with only the rows where 'column_name' contains '“'\n",
    "# filtered_df = data[mask]\n",
    "# filtered_df"
   ]
  },
  {
   "cell_type": "code",
   "execution_count": null,
   "id": "d57d622d-ec87-42a2-863e-9d3cd08bede9",
   "metadata": {},
   "outputs": [],
   "source": [
    "#Cleaning the dataset of odd characters"
   ]
  },
  {
   "cell_type": "code",
   "execution_count": 13,
   "id": "e5d1c13a-1a8a-4fa3-8562-a1f421de4bae",
   "metadata": {},
   "outputs": [
    {
     "data": {
      "text/plain": [
       "'Chính vì hoạt động kinh doanh ọp ẹp như vậy nên việc phong tỏa hóa đơn của 2 doanh nghiệp nói trên đến nay\\xa0cũng “không ăn thua” gì.'"
      ]
     },
     "execution_count": 13,
     "metadata": {},
     "output_type": "execute_result"
    }
   ],
   "source": [
    "data['Sentences'].loc[21]"
   ]
  },
  {
   "cell_type": "code",
   "execution_count": 14,
   "id": "f62df0d4-608e-492a-9558-1ffabcfb9e9f",
   "metadata": {},
   "outputs": [],
   "source": [
    "data['Sentences'] = data['Sentences'].str.replace(u'\\xa0', u' ')\n",
    "data['Sentences'] = data['Sentences'].str.replace(u'“', u'\"')\n",
    "data['Sentences'] = data['Sentences'].str.replace(u'”', u'\"')"
   ]
  },
  {
   "cell_type": "code",
   "execution_count": 19,
   "id": "46c9b8d7-52b5-482f-9c16-8503234e2d08",
   "metadata": {},
   "outputs": [
    {
     "data": {
      "text/plain": [
       "'Chính vì hoạt động kinh doanh ọp ẹp như vậy nên việc phong tỏa hóa đơn của 2 doanh nghiệp nói trên đến nay cũng \"không ăn thua\" gì.'"
      ]
     },
     "execution_count": 19,
     "metadata": {},
     "output_type": "execute_result"
    }
   ],
   "source": [
    "data['Sentences'].loc[21]"
   ]
  },
  {
   "cell_type": "code",
   "execution_count": 20,
   "id": "48ef8a9c-5c5c-4500-b3e9-6c1d76fc511c",
   "metadata": {},
   "outputs": [],
   "source": [
    "output_file_path=\"myDataset/CleanedDatasetStep1.csv\"\n",
    "data.to_csv(output_file_path, index=False)"
   ]
  },
  {
   "cell_type": "code",
   "execution_count": null,
   "id": "e8165f1b-e1b9-449a-90f2-c8a1bcdd9041",
   "metadata": {},
   "outputs": [],
   "source": [
    "#Remove randomly 50% of the accents"
   ]
  },
  {
   "cell_type": "code",
   "execution_count": 21,
   "id": "f17f86ee-0251-436a-bbab-604e56e96f85",
   "metadata": {},
   "outputs": [],
   "source": [
    "import random\n",
    "import unidecode\n",
    "\n",
    "def randomly_remove_accents(text, probability=0.5):\n",
    "    new_text = \"\"\n",
    "    for char in text:\n",
    "        if random.random() < probability:\n",
    "            new_char = unidecode.unidecode(char)\n",
    "        else:\n",
    "            new_char = char\n",
    "        new_text += new_char\n",
    "    return new_text"
   ]
  },
  {
   "cell_type": "code",
   "execution_count": 22,
   "id": "a0834404-e832-4023-a8ca-c5a8a25cc9f0",
   "metadata": {},
   "outputs": [],
   "source": [
    "data['AccentlessSentences'] = data['Sentences'].apply(lambda x: randomly_remove_accents(str(x)))"
   ]
  },
  {
   "cell_type": "code",
   "execution_count": 7,
   "id": "ff4c9c86-d36c-4e39-b1f3-6889001068e7",
   "metadata": {},
   "outputs": [
    {
     "data": {
      "text/html": [
       "<div>\n",
       "<style scoped>\n",
       "    .dataframe tbody tr th:only-of-type {\n",
       "        vertical-align: middle;\n",
       "    }\n",
       "\n",
       "    .dataframe tbody tr th {\n",
       "        vertical-align: top;\n",
       "    }\n",
       "\n",
       "    .dataframe thead th {\n",
       "        text-align: right;\n",
       "    }\n",
       "</style>\n",
       "<table border=\"1\" class=\"dataframe\">\n",
       "  <thead>\n",
       "    <tr style=\"text-align: right;\">\n",
       "      <th></th>\n",
       "      <th>URL</th>\n",
       "      <th>Title</th>\n",
       "      <th>Summary</th>\n",
       "      <th>Contents</th>\n",
       "      <th>Date</th>\n",
       "      <th>Author(s)</th>\n",
       "      <th>Category</th>\n",
       "      <th>Tags</th>\n",
       "    </tr>\n",
       "  </thead>\n",
       "  <tbody>\n",
       "    <tr>\n",
       "      <th>count</th>\n",
       "      <td>313320</td>\n",
       "      <td>313320</td>\n",
       "      <td>313140</td>\n",
       "      <td>307763</td>\n",
       "      <td>313320</td>\n",
       "      <td>312499</td>\n",
       "      <td>313320</td>\n",
       "      <td>313320</td>\n",
       "    </tr>\n",
       "    <tr>\n",
       "      <th>unique</th>\n",
       "      <td>290282</td>\n",
       "      <td>288833</td>\n",
       "      <td>288922</td>\n",
       "      <td>284633</td>\n",
       "      <td>252777</td>\n",
       "      <td>19087</td>\n",
       "      <td>39</td>\n",
       "      <td>245322</td>\n",
       "    </tr>\n",
       "    <tr>\n",
       "      <th>top</th>\n",
       "      <td>https://laodong.vn/cong-doan/cuoi-thang-nhieu-...</td>\n",
       "      <td>Dự báo thời tiết 10 ngày tới ở cả ba miền</td>\n",
       "      <td>Tuyển sinh năm 2022, nhiều trường đại học trên...</td>\n",
       "      <td>Giá vàng trong nước  Nguồn: Công ty CP Dịch vụ...</td>\n",
       "      <td>Thứ bảy, 03/04/2021 07:00 (GMT+7)</td>\n",
       "      <td>Thanh Hà</td>\n",
       "      <td>Xã hội</td>\n",
       "      <td>['Hà Nội']</td>\n",
       "    </tr>\n",
       "    <tr>\n",
       "      <th>freq</th>\n",
       "      <td>5</td>\n",
       "      <td>69</td>\n",
       "      <td>49</td>\n",
       "      <td>47</td>\n",
       "      <td>14</td>\n",
       "      <td>5297</td>\n",
       "      <td>58776</td>\n",
       "      <td>1477</td>\n",
       "    </tr>\n",
       "  </tbody>\n",
       "</table>\n",
       "</div>"
      ],
      "text/plain": [
       "                                                      URL  \\\n",
       "count                                              313320   \n",
       "unique                                             290282   \n",
       "top     https://laodong.vn/cong-doan/cuoi-thang-nhieu-...   \n",
       "freq                                                    5   \n",
       "\n",
       "                                            Title  \\\n",
       "count                                      313320   \n",
       "unique                                     288833   \n",
       "top     Dự báo thời tiết 10 ngày tới ở cả ba miền   \n",
       "freq                                           69   \n",
       "\n",
       "                                                  Summary  \\\n",
       "count                                              313140   \n",
       "unique                                             288922   \n",
       "top     Tuyển sinh năm 2022, nhiều trường đại học trên...   \n",
       "freq                                                   49   \n",
       "\n",
       "                                                 Contents  \\\n",
       "count                                              307763   \n",
       "unique                                             284633   \n",
       "top     Giá vàng trong nước  Nguồn: Công ty CP Dịch vụ...   \n",
       "freq                                                   47   \n",
       "\n",
       "                                     Date Author(s) Category        Tags  \n",
       "count                              313320    312499   313320      313320  \n",
       "unique                             252777     19087       39      245322  \n",
       "top     Thứ bảy, 03/04/2021 07:00 (GMT+7)  Thanh Hà   Xã hội  ['Hà Nội']  \n",
       "freq                                   14      5297    58776        1477  "
      ]
     },
     "execution_count": 7,
     "metadata": {},
     "output_type": "execute_result"
    }
   ],
   "source": [
    "data"
   ]
  },
  {
   "cell_type": "code",
   "execution_count": 24,
   "id": "33e7513d-a640-4a81-bad9-98e659f9e23e",
   "metadata": {},
   "outputs": [],
   "source": [
    "data.to_csv('myDataset/fullDataset.csv', index = False)"
   ]
  },
  {
   "cell_type": "code",
   "execution_count": null,
   "id": "023adfec-338a-42ec-a1c0-d2a194d70794",
   "metadata": {},
   "outputs": [],
   "source": [
    "#remove duplicate"
   ]
  },
  {
   "cell_type": "code",
   "execution_count": 25,
   "id": "91b9102b-2c2f-42eb-a024-d037070b4175",
   "metadata": {},
   "outputs": [
    {
     "data": {
      "text/html": [
       "<div>\n",
       "<style scoped>\n",
       "    .dataframe tbody tr th:only-of-type {\n",
       "        vertical-align: middle;\n",
       "    }\n",
       "\n",
       "    .dataframe tbody tr th {\n",
       "        vertical-align: top;\n",
       "    }\n",
       "\n",
       "    .dataframe thead th {\n",
       "        text-align: right;\n",
       "    }\n",
       "</style>\n",
       "<table border=\"1\" class=\"dataframe\">\n",
       "  <thead>\n",
       "    <tr style=\"text-align: right;\">\n",
       "      <th></th>\n",
       "      <th>Sentences</th>\n",
       "      <th>AccentlessSentences</th>\n",
       "    </tr>\n",
       "  </thead>\n",
       "  <tbody>\n",
       "    <tr>\n",
       "      <th>count</th>\n",
       "      <td>4749820</td>\n",
       "      <td>4749820</td>\n",
       "    </tr>\n",
       "    <tr>\n",
       "      <th>unique</th>\n",
       "      <td>4036379</td>\n",
       "      <td>4649488</td>\n",
       "    </tr>\n",
       "    <tr>\n",
       "      <th>top</th>\n",
       "      <td>2.</td>\n",
       "      <td>2.</td>\n",
       "    </tr>\n",
       "    <tr>\n",
       "      <th>freq</th>\n",
       "      <td>7271</td>\n",
       "      <td>7271</td>\n",
       "    </tr>\n",
       "  </tbody>\n",
       "</table>\n",
       "</div>"
      ],
      "text/plain": [
       "       Sentences AccentlessSentences\n",
       "count    4749820             4749820\n",
       "unique   4036379             4649488\n",
       "top           2.                  2.\n",
       "freq        7271                7271"
      ]
     },
     "execution_count": 25,
     "metadata": {},
     "output_type": "execute_result"
    }
   ],
   "source": [
    "data.describe()"
   ]
  },
  {
   "cell_type": "code",
   "execution_count": 26,
   "id": "ddd87171-cd33-4280-a51d-20e847a0583e",
   "metadata": {},
   "outputs": [],
   "source": [
    "data = data.drop_duplicates(subset=['Sentences'])"
   ]
  },
  {
   "cell_type": "code",
   "execution_count": 27,
   "id": "ea564be0-7156-4330-a780-99a2f9571c74",
   "metadata": {},
   "outputs": [
    {
     "data": {
      "text/html": [
       "<div>\n",
       "<style scoped>\n",
       "    .dataframe tbody tr th:only-of-type {\n",
       "        vertical-align: middle;\n",
       "    }\n",
       "\n",
       "    .dataframe tbody tr th {\n",
       "        vertical-align: top;\n",
       "    }\n",
       "\n",
       "    .dataframe thead th {\n",
       "        text-align: right;\n",
       "    }\n",
       "</style>\n",
       "<table border=\"1\" class=\"dataframe\">\n",
       "  <thead>\n",
       "    <tr style=\"text-align: right;\">\n",
       "      <th></th>\n",
       "      <th>Sentences</th>\n",
       "      <th>AccentlessSentences</th>\n",
       "    </tr>\n",
       "  </thead>\n",
       "  <tbody>\n",
       "    <tr>\n",
       "      <th>count</th>\n",
       "      <td>4036379</td>\n",
       "      <td>4036379</td>\n",
       "    </tr>\n",
       "    <tr>\n",
       "      <th>unique</th>\n",
       "      <td>4036379</td>\n",
       "      <td>4036352</td>\n",
       "    </tr>\n",
       "    <tr>\n",
       "      <th>top</th>\n",
       "      <td>Những ngày vừa qua, trên trang Facebook chính ...</td>\n",
       "      <td>Xin cam on\".</td>\n",
       "    </tr>\n",
       "    <tr>\n",
       "      <th>freq</th>\n",
       "      <td>1</td>\n",
       "      <td>2</td>\n",
       "    </tr>\n",
       "  </tbody>\n",
       "</table>\n",
       "</div>"
      ],
      "text/plain": [
       "                                                Sentences AccentlessSentences\n",
       "count                                             4036379             4036379\n",
       "unique                                            4036379             4036352\n",
       "top     Những ngày vừa qua, trên trang Facebook chính ...        Xin cam on\".\n",
       "freq                                                    1                   2"
      ]
     },
     "execution_count": 27,
     "metadata": {},
     "output_type": "execute_result"
    }
   ],
   "source": [
    "data.describe()"
   ]
  },
  {
   "cell_type": "code",
   "execution_count": 31,
   "id": "4f19f3e0-7a6d-49f4-af18-e70a75f41d97",
   "metadata": {},
   "outputs": [],
   "source": [
    "data.to_csv('myDataset/refinedFullDataset.csv', index=False)"
   ]
  },
  {
   "cell_type": "code",
   "execution_count": 30,
   "id": "659215dd-3f34-43c0-9fc8-b42d71d487bb",
   "metadata": {},
   "outputs": [
    {
     "data": {
      "text/html": [
       "<div>\n",
       "<style scoped>\n",
       "    .dataframe tbody tr th:only-of-type {\n",
       "        vertical-align: middle;\n",
       "    }\n",
       "\n",
       "    .dataframe tbody tr th {\n",
       "        vertical-align: top;\n",
       "    }\n",
       "\n",
       "    .dataframe thead th {\n",
       "        text-align: right;\n",
       "    }\n",
       "</style>\n",
       "<table border=\"1\" class=\"dataframe\">\n",
       "  <thead>\n",
       "    <tr style=\"text-align: right;\">\n",
       "      <th></th>\n",
       "      <th>Sentences</th>\n",
       "      <th>AccentlessSentences</th>\n",
       "    </tr>\n",
       "  </thead>\n",
       "  <tbody>\n",
       "    <tr>\n",
       "      <th>0</th>\n",
       "      <td>Những ngày vừa qua, trên trang Facebook chính ...</td>\n",
       "      <td>Những ngày vua qua, tren trang Facebook chính ...</td>\n",
       "    </tr>\n",
       "    <tr>\n",
       "      <th>1</th>\n",
       "      <td>Sau đó, một số trang thông tin và mạng xã hội ...</td>\n",
       "      <td>Sau do, một so trang thông tin va mang xã hội ...</td>\n",
       "    </tr>\n",
       "    <tr>\n",
       "      <th>2</th>\n",
       "      <td>Trước thông tin này, ông Đoàn Kim Đình - Chủ t...</td>\n",
       "      <td>Truớc thong tin nay, ong Doan Kim Đình - Chu t...</td>\n",
       "    </tr>\n",
       "    <tr>\n",
       "      <th>3</th>\n",
       "      <td>Qua xác minh, khu đất Ngọc Trinh chụp hình và ...</td>\n",
       "      <td>Qua xác minh, khu dat Ngọc Trinh chup hình và ...</td>\n",
       "    </tr>\n",
       "    <tr>\n",
       "      <th>4</th>\n",
       "      <td>Nhưng đây không phải là đất xây dựng homestay ...</td>\n",
       "      <td>Nhung đây khong phải la đat xây dung homestay ...</td>\n",
       "    </tr>\n",
       "    <tr>\n",
       "      <th>...</th>\n",
       "      <td>...</td>\n",
       "      <td>...</td>\n",
       "    </tr>\n",
       "    <tr>\n",
       "      <th>4749810</th>\n",
       "      <td>Để giúp CNVC-LĐ và nhân dân 6 tỉnh Miền Trung ...</td>\n",
       "      <td>Dể giup CNVC-LD va nhan dân 6 tinh Mien Trung ...</td>\n",
       "    </tr>\n",
       "    <tr>\n",
       "      <th>4749813</th>\n",
       "      <td>Tại TP Hồ Chí Minh: 43 Hoa Đào, quận Phú Nhuận...</td>\n",
       "      <td>Tai TP Ho Chí Minh: 43 Hoa Đao, quan Phu Nhuan...</td>\n",
       "    </tr>\n",
       "    <tr>\n",
       "      <th>4749817</th>\n",
       "      <td>Báo Lao Động, Quỹ TLV Lao Động chân thành cảm ...</td>\n",
       "      <td>Bao Lao Dộng, Quy TLV Lao Đong chan thành cam ...</td>\n",
       "    </tr>\n",
       "    <tr>\n",
       "      <th>4749818</th>\n",
       "      <td>* LĐLĐ TP.</td>\n",
       "      <td>* LDLĐ TP.</td>\n",
       "    </tr>\n",
       "    <tr>\n",
       "      <th>4749819</th>\n",
       "      <td>Hồ Chí Minh: 500 triệu đồng * Cty CP Bóng đèn ...</td>\n",
       "      <td>Hồ Chi Minh: 500 triệu đồng * Cty CP Bong den ...</td>\n",
       "    </tr>\n",
       "  </tbody>\n",
       "</table>\n",
       "<p>4036379 rows × 2 columns</p>\n",
       "</div>"
      ],
      "text/plain": [
       "                                                 Sentences  \\\n",
       "0        Những ngày vừa qua, trên trang Facebook chính ...   \n",
       "1        Sau đó, một số trang thông tin và mạng xã hội ...   \n",
       "2        Trước thông tin này, ông Đoàn Kim Đình - Chủ t...   \n",
       "3        Qua xác minh, khu đất Ngọc Trinh chụp hình và ...   \n",
       "4        Nhưng đây không phải là đất xây dựng homestay ...   \n",
       "...                                                    ...   \n",
       "4749810  Để giúp CNVC-LĐ và nhân dân 6 tỉnh Miền Trung ...   \n",
       "4749813  Tại TP Hồ Chí Minh: 43 Hoa Đào, quận Phú Nhuận...   \n",
       "4749817  Báo Lao Động, Quỹ TLV Lao Động chân thành cảm ...   \n",
       "4749818                                         * LĐLĐ TP.   \n",
       "4749819  Hồ Chí Minh: 500 triệu đồng * Cty CP Bóng đèn ...   \n",
       "\n",
       "                                       AccentlessSentences  \n",
       "0        Những ngày vua qua, tren trang Facebook chính ...  \n",
       "1        Sau do, một so trang thông tin va mang xã hội ...  \n",
       "2        Truớc thong tin nay, ong Doan Kim Đình - Chu t...  \n",
       "3        Qua xác minh, khu dat Ngọc Trinh chup hình và ...  \n",
       "4        Nhung đây khong phải la đat xây dung homestay ...  \n",
       "...                                                    ...  \n",
       "4749810  Dể giup CNVC-LD va nhan dân 6 tinh Mien Trung ...  \n",
       "4749813  Tai TP Ho Chí Minh: 43 Hoa Đao, quan Phu Nhuan...  \n",
       "4749817  Bao Lao Dộng, Quy TLV Lao Đong chan thành cam ...  \n",
       "4749818                                         * LDLĐ TP.  \n",
       "4749819  Hồ Chi Minh: 500 triệu đồng * Cty CP Bong den ...  \n",
       "\n",
       "[4036379 rows x 2 columns]"
      ]
     },
     "execution_count": 30,
     "metadata": {},
     "output_type": "execute_result"
    }
   ],
   "source": [
    "data"
   ]
  },
  {
   "cell_type": "code",
   "execution_count": null,
   "id": "ecefd781-1e2d-4de2-9308-9140458ab09c",
   "metadata": {},
   "outputs": [],
   "source": []
  }
 ],
 "metadata": {
  "kernelspec": {
   "display_name": "Python 3 (ipykernel)",
   "language": "python",
   "name": "python3"
  },
  "language_info": {
   "codemirror_mode": {
    "name": "ipython",
    "version": 3
   },
   "file_extension": ".py",
   "mimetype": "text/x-python",
   "name": "python",
   "nbconvert_exporter": "python",
   "pygments_lexer": "ipython3",
   "version": "3.11.6"
  }
 },
 "nbformat": 4,
 "nbformat_minor": 5
}
