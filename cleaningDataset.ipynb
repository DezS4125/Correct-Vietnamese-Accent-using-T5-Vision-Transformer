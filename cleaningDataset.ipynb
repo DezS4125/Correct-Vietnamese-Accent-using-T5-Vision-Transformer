{
 "cells": [
  {
   "cell_type": "code",
   "execution_count": null,
   "id": "fd8f8e8e-3e4d-43dd-85ea-df74b61e252f",
   "metadata": {},
   "outputs": [],
   "source": [
    "#Replace those damned '\\xa0' in the csv file"
   ]
  },
  {
   "cell_type": "code",
   "execution_count": 1,
   "id": "bee75cbf-655a-4dd7-9d0c-774362633e14",
   "metadata": {},
   "outputs": [],
   "source": [
    "import pandas as pd\n",
    "filename=\"myDataset/sentenceOnly.csv\"\n",
    "data=pd.read_csv(filename)"
   ]
  },
  {
   "cell_type": "code",
   "execution_count": 2,
   "id": "5d2a1b01-e917-491f-bf6a-f0af97e93fea",
   "metadata": {},
   "outputs": [
    {
     "data": {
      "text/html": [
       "<div>\n",
       "<style scoped>\n",
       "    .dataframe tbody tr th:only-of-type {\n",
       "        vertical-align: middle;\n",
       "    }\n",
       "\n",
       "    .dataframe tbody tr th {\n",
       "        vertical-align: top;\n",
       "    }\n",
       "\n",
       "    .dataframe thead th {\n",
       "        text-align: right;\n",
       "    }\n",
       "</style>\n",
       "<table border=\"1\" class=\"dataframe\">\n",
       "  <thead>\n",
       "    <tr style=\"text-align: right;\">\n",
       "      <th></th>\n",
       "      <th>Sentences</th>\n",
       "    </tr>\n",
       "  </thead>\n",
       "  <tbody>\n",
       "    <tr>\n",
       "      <th>count</th>\n",
       "      <td>4749820</td>\n",
       "    </tr>\n",
       "    <tr>\n",
       "      <th>unique</th>\n",
       "      <td>4042068</td>\n",
       "    </tr>\n",
       "    <tr>\n",
       "      <th>top</th>\n",
       "      <td>2.</td>\n",
       "    </tr>\n",
       "    <tr>\n",
       "      <th>freq</th>\n",
       "      <td>7271</td>\n",
       "    </tr>\n",
       "  </tbody>\n",
       "</table>\n",
       "</div>"
      ],
      "text/plain": [
       "       Sentences\n",
       "count    4749820\n",
       "unique   4042068\n",
       "top           2.\n",
       "freq        7271"
      ]
     },
     "execution_count": 2,
     "metadata": {},
     "output_type": "execute_result"
    }
   ],
   "source": [
    "data.describe()"
   ]
  },
  {
   "cell_type": "code",
   "execution_count": 4,
   "id": "b21675da-57a2-43ea-8c55-e1bb566ff999",
   "metadata": {},
   "outputs": [
    {
     "data": {
      "text/plain": [
       "'Sau\\xa0đó, một số trang thông tin và mạng\\xa0xã hội khác tiếp tục đăng tại lại thông tin này,\\xa0đồng thời khẳng định, khu đất Ngọc Trinh mới mua nằm tại xã Đại Lào, TP.Bảo Lộc,\\xa0tọa lạc ở vị trí đắc địa, tiếp giáp núi và có khí hậu mát mẻ dễ chịu, thích hợp cho kỳ nghỉ trốn nắng hè cho du khách.'"
      ]
     },
     "execution_count": 4,
     "metadata": {},
     "output_type": "execute_result"
    }
   ],
   "source": [
    "data['Sentences'].loc[1]"
   ]
  },
  {
   "cell_type": "code",
   "execution_count": 5,
   "id": "ada99e67-a17d-456c-ba9f-b523985a85ca",
   "metadata": {},
   "outputs": [],
   "source": [
    "data['Sentences'] = data['Sentences'].str.replace(u'\\xa0', u' ')"
   ]
  },
  {
   "cell_type": "code",
   "execution_count": 6,
   "id": "e79135dc-4e4d-49fc-ba5a-8e39b1b19615",
   "metadata": {},
   "outputs": [
    {
     "data": {
      "text/plain": [
       "'Sau đó, một số trang thông tin và mạng xã hội khác tiếp tục đăng tại lại thông tin này, đồng thời khẳng định, khu đất Ngọc Trinh mới mua nằm tại xã Đại Lào, TP.Bảo Lộc, tọa lạc ở vị trí đắc địa, tiếp giáp núi và có khí hậu mát mẻ dễ chịu, thích hợp cho kỳ nghỉ trốn nắng hè cho du khách.'"
      ]
     },
     "execution_count": 6,
     "metadata": {},
     "output_type": "execute_result"
    }
   ],
   "source": [
    "data['Sentences'].loc[1]"
   ]
  },
  {
   "cell_type": "code",
   "execution_count": 7,
   "id": "2dededca-4859-4ee9-958e-9c40bf587702",
   "metadata": {},
   "outputs": [],
   "source": [
    "output_file_path=\"myDataset/sentenceOnly.csv\"\n",
    "data.to_csv(output_file_path, index=False)"
   ]
  },
  {
   "cell_type": "code",
   "execution_count": 8,
   "id": "1d9eaa2b-a068-4c4c-b6b7-12949e49dc50",
   "metadata": {},
   "outputs": [
    {
     "data": {
      "text/html": [
       "<div>\n",
       "<style scoped>\n",
       "    .dataframe tbody tr th:only-of-type {\n",
       "        vertical-align: middle;\n",
       "    }\n",
       "\n",
       "    .dataframe tbody tr th {\n",
       "        vertical-align: top;\n",
       "    }\n",
       "\n",
       "    .dataframe thead th {\n",
       "        text-align: right;\n",
       "    }\n",
       "</style>\n",
       "<table border=\"1\" class=\"dataframe\">\n",
       "  <thead>\n",
       "    <tr style=\"text-align: right;\">\n",
       "      <th></th>\n",
       "      <th>Sentences</th>\n",
       "    </tr>\n",
       "  </thead>\n",
       "  <tbody>\n",
       "    <tr>\n",
       "      <th>0</th>\n",
       "      <td>Những ngày vừa qua, trên trang Facebook chính ...</td>\n",
       "    </tr>\n",
       "    <tr>\n",
       "      <th>1</th>\n",
       "      <td>Sau đó, một số trang thông tin và mạng xã hội ...</td>\n",
       "    </tr>\n",
       "    <tr>\n",
       "      <th>2</th>\n",
       "      <td>Trước thông tin này, ông Đoàn Kim Đình - Chủ t...</td>\n",
       "    </tr>\n",
       "    <tr>\n",
       "      <th>3</th>\n",
       "      <td>Qua xác minh, khu đất Ngọc Trinh chụp hình và ...</td>\n",
       "    </tr>\n",
       "    <tr>\n",
       "      <th>4</th>\n",
       "      <td>Nhưng đây không phải là đất xây dựng homestay ...</td>\n",
       "    </tr>\n",
       "    <tr>\n",
       "      <th>...</th>\n",
       "      <td>...</td>\n",
       "    </tr>\n",
       "    <tr>\n",
       "      <th>4749815</th>\n",
       "      <td>ĐT: 08.35171402; fax: 08.35171407.</td>\n",
       "    </tr>\n",
       "    <tr>\n",
       "      <th>4749816</th>\n",
       "      <td>Hoặc chuyển khoản về Quỹ Xã hội từ thiện Tấm l...</td>\n",
       "    </tr>\n",
       "    <tr>\n",
       "      <th>4749817</th>\n",
       "      <td>Báo Lao Động, Quỹ TLV Lao Động chân thành cảm ...</td>\n",
       "    </tr>\n",
       "    <tr>\n",
       "      <th>4749818</th>\n",
       "      <td>* LĐLĐ TP.</td>\n",
       "    </tr>\n",
       "    <tr>\n",
       "      <th>4749819</th>\n",
       "      <td>Hồ Chí Minh: 500 triệu đồng * Cty CP Bóng đèn ...</td>\n",
       "    </tr>\n",
       "  </tbody>\n",
       "</table>\n",
       "<p>4749820 rows × 1 columns</p>\n",
       "</div>"
      ],
      "text/plain": [
       "                                                 Sentences\n",
       "0        Những ngày vừa qua, trên trang Facebook chính ...\n",
       "1        Sau đó, một số trang thông tin và mạng xã hội ...\n",
       "2        Trước thông tin này, ông Đoàn Kim Đình - Chủ t...\n",
       "3        Qua xác minh, khu đất Ngọc Trinh chụp hình và ...\n",
       "4        Nhưng đây không phải là đất xây dựng homestay ...\n",
       "...                                                    ...\n",
       "4749815                 ĐT: 08.35171402; fax: 08.35171407.\n",
       "4749816  Hoặc chuyển khoản về Quỹ Xã hội từ thiện Tấm l...\n",
       "4749817  Báo Lao Động, Quỹ TLV Lao Động chân thành cảm ...\n",
       "4749818                                         * LĐLĐ TP.\n",
       "4749819  Hồ Chí Minh: 500 triệu đồng * Cty CP Bóng đèn ...\n",
       "\n",
       "[4749820 rows x 1 columns]"
      ]
     },
     "execution_count": 8,
     "metadata": {},
     "output_type": "execute_result"
    }
   ],
   "source": [
    "output=pd.read_csv(output_file_path)\n",
    "output"
   ]
  },
  {
   "cell_type": "code",
   "execution_count": null,
   "id": "51c4f83a-5c78-4820-a446-d60f5adf0b55",
   "metadata": {},
   "outputs": [],
   "source": []
  }
 ],
 "metadata": {
  "kernelspec": {
   "display_name": "Python 3 (ipykernel)",
   "language": "python",
   "name": "python3"
  },
  "language_info": {
   "codemirror_mode": {
    "name": "ipython",
    "version": 3
   },
   "file_extension": ".py",
   "mimetype": "text/x-python",
   "name": "python",
   "nbconvert_exporter": "python",
   "pygments_lexer": "ipython3",
   "version": "3.11.6"
  }
 },
 "nbformat": 4,
 "nbformat_minor": 5
}
